{
 "cells": [
  {
   "cell_type": "code",
   "execution_count": 1,
   "metadata": {
    "collapsed": true
   },
   "outputs": [],
   "source": [
    "import os\n",
    "import time\n",
    "from datetime import date, timedelta\n",
    "from pandas.tseries.offsets import CustomBusinessDay"
   ]
  },
  {
   "cell_type": "code",
   "execution_count": 2,
   "metadata": {
    "collapsed": true
   },
   "outputs": [],
   "source": [
    "today = date.today()\n",
    "today\n",
    "\n",
    "\n",
    "weekmask = 'Mon Tue Wed Thu Fri'\n",
    "holidays = ['2017-01-27','2017-01-30',\n",
    "            '2017-03-01',\n",
    "            '2017-05-01','2017-05-03','2017-05-05',\n",
    "            '2017-06-06',   \n",
    "            '2017-08-15',\n",
    "            '2017-10-02','2017-10-03','2017-10-04','2017-10-05','2017-10-06','2017-10-09',\n",
    "            '2017-12-25',\n",
    "            '2018-01-01',\n",
    "            '2018-02-15','2018-02-16',\n",
    "            '2018-03-01',\n",
    "            '2018-05-07','2018-05-22',\n",
    "            '2018-06-06',\n",
    "            '2018-08-15',\n",
    "            '2018-09-24','2018-09-25','2018-09-26',\n",
    "            '2018-10-03','2018-10-09',\n",
    "            '2018-12-25']\n",
    "cday = CustomBusinessDay(holidays = holidays, weekmask = weekmask)"
   ]
  },
  {
   "cell_type": "code",
   "execution_count": 3,
   "metadata": {
    "collapsed": false
   },
   "outputs": [
    {
     "data": {
      "text/plain": [
       "<3 * CustomBusinessDays>"
      ]
     },
     "execution_count": 3,
     "metadata": {},
     "output_type": "execute_result"
    }
   ],
   "source": [
    "def custom_day(numb):\n",
    "    return numb * cday\n",
    "custom_day(3)"
   ]
  },
  {
   "cell_type": "code",
   "execution_count": 4,
   "metadata": {
    "collapsed": true
   },
   "outputs": [],
   "source": [
    "def daterange(start_date, end_date):\n",
    "    for n in range(int((end_date - start_date).days)):\n",
    "        yield start_date + timedelta(n)\n",
    "def prev_day(p_numb):\n",
    "    result = today - custom_day(p_numb)\n",
    "    return result"
   ]
  },
  {
   "cell_type": "code",
   "execution_count": 5,
   "metadata": {
    "collapsed": false
   },
   "outputs": [
    {
     "data": {
      "text/plain": [
       "Timestamp('2018-07-12 00:00:00')"
      ]
     },
     "execution_count": 5,
     "metadata": {},
     "output_type": "execute_result"
    }
   ],
   "source": [
    "prev_day(2)"
   ]
  },
  {
   "cell_type": "code",
   "execution_count": 6,
   "metadata": {
    "collapsed": true
   },
   "outputs": [],
   "source": [
    "def prev_day(dd):\n",
    "    custom_d = dd * cday\n",
    "    result = today - custom_d\n",
    "    return result\n",
    "\n",
    "d6_front = (prev_day(6) - timedelta(30)).strftime('%Y-%m-%d')\n",
    "d6_end = (prev_day(6)).strftime('%Y-%m-%d')"
   ]
  },
  {
   "cell_type": "code",
   "execution_count": 7,
   "metadata": {
    "collapsed": false
   },
   "outputs": [
    {
     "name": "stdout",
     "output_type": "stream",
     "text": [
      "2018-07-13\n",
      "2018-07-12\n",
      "2018-07-11\n",
      "2018-07-10\n",
      "2018-07-09\n"
     ]
    }
   ],
   "source": [
    "def down_day_test():\n",
    "    check_date = [1,2,3,4,5]\n",
    "    for dm in check_date:\n",
    "        tm = prev_day(dm).strftime('%Y-%m-%d')\n",
    "        print(tm)\n",
    "    \n",
    "down_day_test()    \n",
    "    \n",
    "    \n",
    "#     d6_front = (prev_day(6) - timedelta(30)).strftime('%Y-%m-%d')\n",
    "#     d6_end = (prev_day(6)).strftime('%Y-%m-%d')"
   ]
  },
  {
   "cell_type": "code",
   "execution_count": null,
   "metadata": {
    "collapsed": true
   },
   "outputs": [],
   "source": []
  }
 ],
 "metadata": {
  "anaconda-cloud": {},
  "kernelspec": {
   "display_name": "Python [conda root]",
   "language": "python",
   "name": "conda-root-py"
  },
  "language_info": {
   "codemirror_mode": {
    "name": "ipython",
    "version": 3
   },
   "file_extension": ".py",
   "mimetype": "text/x-python",
   "name": "python",
   "nbconvert_exporter": "python",
   "pygments_lexer": "ipython3",
   "version": "3.5.2"
  }
 },
 "nbformat": 4,
 "nbformat_minor": 1
}
